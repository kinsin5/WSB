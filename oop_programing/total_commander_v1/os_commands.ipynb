{
 "cells": [
  {
   "cell_type": "markdown",
   "metadata": {},
   "source": [
    " 1. Wchodzenie do podfolderów i folderu nadrzędnego (jak w total commander) (20 pkt.)\n",
    " 2. Sortowanie plików/ folderów po: nazwie i dacie utworzenia - tylko te kolumny muszą być widoczne (20 pkt.)\n",
    " 3. Kopiowanie plików i katalogów (za pomocą metody przeciągnij i upuść (ang. drag and drop)) (20 pkt.)\n",
    " 4. Usuwanie plików i katalogów (przycisk F8) (20 pkt.)\n",
    " 5. Tworzenie nowych folderów (przycisk F7) (20 pkt.)\n"
   ]
  },
  {
   "cell_type": "code",
   "execution_count": 2,
   "metadata": {},
   "outputs": [
    {
     "name": "stdout",
     "output_type": "stream",
     "text": [
      "c:\\desktop\\Python\n"
     ]
    }
   ],
   "source": [
    "import os \n",
    "\n",
    "path = os.getcwd()\n",
    "path.rfind(\"\\\\\")\n",
    "print(path[0:17])\n",
    "original_path = os.getcwd()"
   ]
  },
  {
   "cell_type": "code",
   "execution_count": 4,
   "metadata": {},
   "outputs": [
    {
     "name": "stdout",
     "output_type": "stream",
     "text": [
      "c:\\desktop\\Python\\Total_Commander\n",
      "17\n",
      "c:\\desktop\\Python\n"
     ]
    },
    {
     "data": {
      "text/plain": [
       "'c:\\\\desktop\\\\Python\\\\Total_Commander'"
      ]
     },
     "execution_count": 4,
     "metadata": {},
     "output_type": "execute_result"
    }
   ],
   "source": [
    "print(os.getcwd())\n",
    "def one_lower(path):\n",
    "    print(path.rfind(\"\\\\\"))\n",
    "    return path[0:path.rfind(\"\\\\\")]\n",
    "\n",
    "os.chdir(one_lower(os.getcwd()))\n",
    "\n",
    "print(os.getcwd())\n",
    "os.chdir(original_path)"
   ]
  },
  {
   "cell_type": "code",
   "execution_count": 5,
   "metadata": {},
   "outputs": [
    {
     "name": "stdout",
     "output_type": "stream",
     "text": [
      "['daro_file_manager', 'my_file_manager', 'os_commands.ipynb', 'tkinter_gui.py']\n"
     ]
    }
   ],
   "source": [
    "print(os.listdir())"
   ]
  },
  {
   "cell_type": "code",
   "execution_count": 7,
   "metadata": {},
   "outputs": [
    {
     "name": "stdout",
     "output_type": "stream",
     "text": [
      "2025-01-17 15:15:21.967560\n",
      "2025-01-17 15:46:44.793948\n",
      "2025-01-17 15:48:20.538919\n",
      "2025-01-17 15:15:38.714713\n",
      "2025-01-17 15:33:56.417593\n",
      "2025-01-17 15:16:21.616013\n",
      "2025-01-17 15:46:48.378225\n"
     ]
    }
   ],
   "source": [
    "###Time of birth of file\n",
    "from datetime import datetime\n",
    "for file in os.listdir():\n",
    "    birth_time = os.stat(file).st_birthtime\n",
    "    print(datetime.fromtimestamp(birth_time))\n"
   ]
  }
 ],
 "metadata": {
  "kernelspec": {
   "display_name": "Python 3",
   "language": "python",
   "name": "python3"
  },
  "language_info": {
   "codemirror_mode": {
    "name": "ipython",
    "version": 3
   },
   "file_extension": ".py",
   "mimetype": "text/x-python",
   "name": "python",
   "nbconvert_exporter": "python",
   "pygments_lexer": "ipython3",
   "version": "3.13.0"
  }
 },
 "nbformat": 4,
 "nbformat_minor": 2
}
